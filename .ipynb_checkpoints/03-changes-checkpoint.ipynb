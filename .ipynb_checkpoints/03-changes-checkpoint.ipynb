{
 "cells": [
  {
   "cell_type": "markdown",
   "metadata": {},
   "source": [
    "---\n",
    "title: Tracking Changes\n",
    "date: 2023-11-30 \n",
    "authors:\n",
    "  - name: Sébastien Boisgérault\n",
    "    email: Sebastien.Boisgerault@minesparis.psl.eu\n",
    "    url: https://github.com/boisgera\n",
    "    affiliations:\n",
    "      - institution: Mines Paris - PSL University\n",
    "        department: Institut des Transformation Numériques (ITN)\n",
    "github: boisgera\n",
    "license: CC-BY-4.0\n",
    "open_access: true\n",
    "---"
   ]
  },
  {
   "cell_type": "markdown",
   "metadata": {},
   "source": [
    "In order to understand how `.tldr` files are structured, we can add a new graphical objects, change some if their properties, etc. and each time we modify the document, analyze the corresponding evolution of the file.\n",
    "\n",
    "In this notebook, we develop some tooling to help us track such changes."
   ]
  },
  {
   "cell_type": "markdown",
   "metadata": {},
   "source": [
    "## Text comparison"
   ]
  },
  {
   "cell_type": "markdown",
   "metadata": {},
   "source": [
    "We define two similar versions of the \"zen of Python\":"
   ]
  },
  {
   "cell_type": "code",
   "execution_count": 3,
   "metadata": {},
   "outputs": [],
   "source": [
    "zen_1 = \"\"\"The Zen of Python, by Tim Peters\n",
    "\n",
    "Beautiful is better than ugly.\n",
    "Explicit is better than implicit.\n",
    "Simple is better than complex.\n",
    "Complex is better than complicated.\n",
    "Flat is better than nested.\n",
    "Sparse is better than dense.\n",
    "Readability counts.\n",
    "Special cases aren't special enough to break the rules.\n",
    "Errors should never pass silently.\n",
    "In the face of ambiguity, refuse the temptation to guess.\n",
    "There should be one obvious way to do it.\n",
    "Although that way may not be obvious at first.\n",
    "Now is better than never.\n",
    "Although never is often better than right now.\n",
    "If the implementation is hard to explain, it's a bad idea.\n",
    "If the implementation is easy to explain, it is a good idea.\n",
    "\"\"\""
   ]
  },
  {
   "cell_type": "code",
   "execution_count": 1,
   "metadata": {},
   "outputs": [],
   "source": [
    "zen_2 = \"\"\"\\\n",
    "The Zen of Python, by Tim Peters\n",
    "\n",
    "Beautiful is better than ugly.\n",
    "Explicit is better than implicit.\n",
    "Simple is better than complex.\n",
    "Complex is better than complicated.\n",
    "Flat is better than nested.\n",
    "Sparse is better than dense.\n",
    "Readability counts.\n",
    "Special cases aren't special enough to break the rules.\n",
    "Although practicality beats purity.\n",
    "Errors should never pass silently.\n",
    "Unless explicitly silenced.\n",
    "In the face of ambiguity, refuse the temptation to guess.\n",
    "There should be one-- and preferably only one --obvious way to do it.\n",
    "Although that way may not be obvious at first unless you're Dutch.\n",
    "Now is better than never.\n",
    "Although never is often better than *right* now.\n",
    "If the implementation is hard to explain, it's a bad idea.\n",
    "If the implementation is easy to explain, it may be a good idea.\n",
    "Namespaces are one honking great idea -- let's do more of those!\n",
    "\"\"\""
   ]
  },
  {
   "cell_type": "markdown",
   "metadata": {},
   "source": [
    "```{exercise}\n",
    " 1. Transform `zen_1` and `zen_2` into list of lines.\n",
    " 2. Use the [`difflib`](https://docs.python.org/3/library/difflib.html) module of the Python standard library to [`compare`](https://docs.python.org/3/library/difflib.html#difflib.Differ.compare) the two sequences.\n",
    " 3. Make a text out of the output of compare and print it.\n",
    " 4. Interpret the result and list the differences between both versions of the zen of Python.\n",
    "```"
   ]
  },
  {
   "cell_type": "code",
   "execution_count": 10,
   "metadata": {},
   "outputs": [
    {
     "name": "stdout",
     "output_type": "stream",
     "text": [
      "  The Zen of Python, by Tim Peters\n",
      "  \n",
      "  Beautiful is better than ugly.\n",
      "  Explicit is better than implicit.\n",
      "  Simple is better than complex.\n",
      "  Complex is better than complicated.\n",
      "  Flat is better than nested.\n",
      "  Sparse is better than dense.\n",
      "  Readability counts.\n",
      "  Special cases aren't special enough to break the rules.\n",
      "+ Although practicality beats purity.\n",
      "  Errors should never pass silently.\n",
      "+ Unless explicitly silenced.\n",
      "  In the face of ambiguity, refuse the temptation to guess.\n",
      "- There should be one obvious way to do it.\n",
      "+ There should be one-- and preferably only one --obvious way to do it.\n",
      "- Although that way may not be obvious at first.\n",
      "+ Although that way may not be obvious at first unless you're Dutch.\n",
      "?                                              ++++++++++++++++++++\n",
      "\n",
      "  Now is better than never.\n",
      "- Although never is often better than right now.\n",
      "+ Although never is often better than *right* now.\n",
      "?                                     +     +\n",
      "\n",
      "  If the implementation is hard to explain, it's a bad idea.\n",
      "- If the implementation is easy to explain, it is a good idea.\n",
      "?                                              ^^\n",
      "\n",
      "+ If the implementation is easy to explain, it may be a good idea.\n",
      "?                                              ^^^^^^\n",
      "\n",
      "+ Namespaces are one honking great idea -- let's do more of those!\n"
     ]
    }
   ],
   "source": [
    "#1/\n",
    "zen_1_splitted = zen_1.splitlines()\n",
    "zen_2_splitted = zen_2.splitlines()\n",
    "#2/\n",
    "import difflib\n",
    "\n",
    "differ = difflib.Differ()\n",
    "\n",
    "# Comparaison des lignes de zen1 et zen 2\n",
    "differences = list(differ.compare(zen_1_splitted, zen_2_splitted))\n",
    "\n",
    "text_from_differences = '\\n'.join(differences)\n",
    "\n",
    "print(text_from_differences)"
   ]
  },
  {
   "cell_type": "code",
   "execution_count": 12,
   "metadata": {},
   "outputs": [],
   "source": [
    "#4/\n",
    "#les + indiquent des phrases qui sont dans zen_2_splitted et non dans zen_1_splitted et les - indiquent que ce sont des phrases qui sont dans zen_1_splitted mais non dans zen_2_splitted\n",
    "#les ? points d'interrogations indiquent qu'une phrase a été modifiée. à leur suites lorsqu'il y a des + cela indique des caractères ajoutés dans zen_2_splitted et lorsqu'il y a des ^ cela indique des caractères remplacés de zen_1_splitted à zen_2_splitted"
   ]
  },
  {
   "cell_type": "markdown",
   "metadata": {},
   "source": [
    "We can make our job easier if we use HTML instead of plain text to visualise the differences between the two texts.\n",
    "\n",
    "\n",
    "```{exercise}\n",
    "  1. Use the [HtmlDiff](https://docs.python.org/3/library/difflib.html#difflib.HtmlDiff) class of difflib to produce a `diff.html` file that represents this difference in a HTML document.\n",
    "  2. Use the [webbrowser](https://docs.python.org/3/library/webbrowser.html) module of the standard library to open it!\n",
    "  3. Define a `display_diff_text` function that takes two arguments `text_1` and `text_2` and automates steps 1. and 2.\n",
    "```"
   ]
  },
  {
   "cell_type": "code",
   "execution_count": 17,
   "metadata": {},
   "outputs": [
    {
     "data": {
      "text/plain": [
       "True"
      ]
     },
     "execution_count": 17,
     "metadata": {},
     "output_type": "execute_result"
    }
   ],
   "source": [
    "# Create a HtmlDiff object\n",
    "html_diff = difflib.HtmlDiff()\n",
    "\n",
    "# Generate the HTML diff\n",
    "html_content = html_diff.make_file(zen_1_splitted, zen_2_splitted)\n",
    "\n",
    "# Save the HTML diff to a file\n",
    "with open(\"diff.html\", \"w\", encoding=\"utf-8\") as html_file:\n",
    "    html_file.write(html_content)\n",
    "\n",
    "#2/\n",
    "import webbrowser\n",
    "\n",
    "# Nom du fichier HTML généré\n",
    "html_file_path = \"diff.html\"\n",
    "\n",
    "# Ouvrir le fichier HTML dans le navigateur par défaut\n",
    "webbrowser.open(html_file_path)"
   ]
  },
  {
   "cell_type": "code",
   "execution_count": 20,
   "metadata": {},
   "outputs": [],
   "source": [
    "#3/\n",
    "def display_diff_text(text_1, text_2) : \n",
    "    html_diff = difflib.HtmlDiff()\n",
    "    html_content = html_diff.make_file(text_1, text_2)\n",
    "    with open(\"diff.html\", \"w\", encoding=\"utf-8\") as html_file:\n",
    "        html_file.write(html_content)\n",
    "    html_file_path = \"diff.html\"\n",
    "    webbrowser.open(html_file_path)\n",
    "display_diff_text(zen_1_splitted, zen_2_splitted)\n",
    "    \n",
    "    "
   ]
  },
  {
   "cell_type": "markdown",
   "metadata": {},
   "source": [
    "## Comparison of JSON documents"
   ]
  },
  {
   "cell_type": "markdown",
   "metadata": {},
   "source": [
    "````{exercise} Comparison of dictionnaries\n",
    "\n",
    " 1. Create a `display_diff` function that takes two Python objects, converts them to strings then leverages `display_diff_text` to display the difference in a browser.\n",
    "\n",
    " 2. Consider the 3 dictionaries defined by\n",
    "    ```python\n",
    "    d1 = {k:k+1 for k in range(100)}\n",
    "    d2 = d1.copy(); d2[50] = 50\n",
    "    d3 = {k:k+1 for k in range(99, -1, -1)}\n",
    "    ```\n",
    "    `d1` and `d2` have a slight difference and `d1` and `d2` are equal.\n",
    "    Does your `display_diff` function make easy to spot where the difference is in the first case when it compares `d1` and `d2`?\n",
    "    Does it make easy to see that `d1` and `d3` are equal?\n",
    "\n",
    "  3. Investigate the [`pprint`](https://docs.python.org/3/library/pprint.html) module standard library ; use it to improve the behavior of `display_text_diff` in the two cases considered in the previous question.\n",
    "\n",
    "````\n",
    " "
   ]
  },
  {
   "cell_type": "code",
   "execution_count": 21,
   "metadata": {},
   "outputs": [],
   "source": [
    "#1/\n",
    "def display_diff(obj1, obj2):\n",
    "    # Convertir les objets en chaînes de texte\n",
    "    text_1 = str(obj1)\n",
    "    text_2 = str(obj2)\n",
    "\n",
    "    # Afficher les différences\n",
    "    display_diff_text(text_1, text_2)\n"
   ]
  },
  {
   "cell_type": "code",
   "execution_count": 27,
   "metadata": {},
   "outputs": [],
   "source": [
    "#2/\n",
    "d1 = {k:k+1 for k in range(100)}\n",
    "d2 = d1.copy(); d2[50] = 50\n",
    "d3 = {k:k+1 for k in range(99, -1, -1)}\n",
    "display_diff(d1,d2)\n",
    "#Oui c'est assez facile de voir la différence ntre d1 et d2 ligne 388 en revanche pour d1 et d3 ma function display_diff ne montre pas explicitement que d1 et d3 sont égaux"
   ]
  },
  {
   "cell_type": "code",
   "execution_count": 32,
   "metadata": {},
   "outputs": [],
   "source": [
    "#3/\n",
    "import pprint\n",
    "\n",
    "def display_text_diff(obj1, obj2) : \n",
    "    text_1 = pprint.pformat(obj1, width=1)\n",
    "    text_2 = pprint.pformat(obj2, width=1)\n",
    "    html_diff = difflib.HtmlDiff()\n",
    "    html_content = html_diff.make_file(text_1,text_2)\n",
    "    with open(\"diff.html\", \"w\", encoding=\"utf-8\") as html_file:\n",
    "        html_file.write(html_content)\n",
    "    html_file_path = \"diff.html\"\n",
    "    webbrowser.open(html_file_path)\n",
    "\n",
    "display_text_diff(d1,d3)"
   ]
  },
  {
   "cell_type": "markdown",
   "metadata": {},
   "source": [
    "```{exercise} tldraw documents comparator\n",
    "Implement a function `tldraw_diff` that takes as argument two filenames that refer to tldraw documents and display their differences in the browser.\n",
    "```"
   ]
  },
  {
   "cell_type": "code",
   "execution_count": 37,
   "metadata": {},
   "outputs": [
    {
     "name": "stdout",
     "output_type": "stream",
     "text": [
      "Current working directory: C:\\Users\\Etudiant\\info-minesparis\\intro\\notebooks\\numerique\\notebooks\\tldraw-project\n"
     ]
    },
    {
     "ename": "FileNotFoundError",
     "evalue": "[Errno 2] No such file or directory: 'hello-python.tldr'",
     "output_type": "error",
     "traceback": [
      "\u001b[1;31m---------------------------------------------------------------------------\u001b[0m",
      "\u001b[1;31mFileNotFoundError\u001b[0m                         Traceback (most recent call last)",
      "Cell \u001b[1;32mIn[37], line 16\u001b[0m\n\u001b[0;32m     13\u001b[0m     display_diff_text(content1, content2)\n\u001b[0;32m     15\u001b[0m \u001b[38;5;66;03m# Exemple d'utilisation :\u001b[39;00m\n\u001b[1;32m---> 16\u001b[0m \u001b[43mtldraw_diff\u001b[49m\u001b[43m(\u001b[49m\u001b[38;5;124;43m\"\u001b[39;49m\u001b[38;5;124;43mhello-python.tldr\u001b[39;49m\u001b[38;5;124;43m\"\u001b[39;49m\u001b[43m,\u001b[49m\u001b[43m \u001b[49m\u001b[38;5;124;43m\"\u001b[39;49m\u001b[38;5;124;43mhello-tldraw.tldr\u001b[39;49m\u001b[38;5;124;43m\"\u001b[39;49m\u001b[43m)\u001b[49m\n",
      "Cell \u001b[1;32mIn[37], line 9\u001b[0m, in \u001b[0;36mtldraw_diff\u001b[1;34m(file1, file2)\u001b[0m\n\u001b[0;32m      7\u001b[0m \u001b[38;5;28mprint\u001b[39m(\u001b[38;5;124m\"\u001b[39m\u001b[38;5;124mCurrent working directory:\u001b[39m\u001b[38;5;124m\"\u001b[39m, os\u001b[38;5;241m.\u001b[39mgetcwd())\n\u001b[0;32m      8\u001b[0m \u001b[38;5;66;03m# Charger le contenu des documents tldraw\u001b[39;00m\n\u001b[1;32m----> 9\u001b[0m content1 \u001b[38;5;241m=\u001b[39m \u001b[43mload_tldraw_document\u001b[49m\u001b[43m(\u001b[49m\u001b[43mfile1\u001b[49m\u001b[43m)\u001b[49m\n\u001b[0;32m     10\u001b[0m content2 \u001b[38;5;241m=\u001b[39m load_tldraw_document(file2)\n\u001b[0;32m     12\u001b[0m \u001b[38;5;66;03m# Afficher les différences\u001b[39;00m\n",
      "Cell \u001b[1;32mIn[37], line 4\u001b[0m, in \u001b[0;36mload_tldraw_document\u001b[1;34m(filename)\u001b[0m\n\u001b[0;32m      3\u001b[0m \u001b[38;5;28;01mdef\u001b[39;00m \u001b[38;5;21mload_tldraw_document\u001b[39m(filename):\n\u001b[1;32m----> 4\u001b[0m     \u001b[38;5;28;01mwith\u001b[39;00m \u001b[38;5;28;43mopen\u001b[39;49m\u001b[43m(\u001b[49m\u001b[43mfilename\u001b[49m\u001b[43m,\u001b[49m\u001b[43m \u001b[49m\u001b[38;5;124;43m'\u001b[39;49m\u001b[38;5;124;43mr\u001b[39;49m\u001b[38;5;124;43m'\u001b[39;49m\u001b[43m,\u001b[49m\u001b[43m \u001b[49m\u001b[43mencoding\u001b[49m\u001b[38;5;241;43m=\u001b[39;49m\u001b[38;5;124;43m'\u001b[39;49m\u001b[38;5;124;43mutf-8\u001b[39;49m\u001b[38;5;124;43m'\u001b[39;49m\u001b[43m)\u001b[49m \u001b[38;5;28;01mas\u001b[39;00m file:\n\u001b[0;32m      5\u001b[0m         \u001b[38;5;28;01mreturn\u001b[39;00m file\u001b[38;5;241m.\u001b[39mread()\n",
      "File \u001b[1;32mC:\\miniconda\\Lib\\site-packages\\IPython\\core\\interactiveshell.py:286\u001b[0m, in \u001b[0;36m_modified_open\u001b[1;34m(file, *args, **kwargs)\u001b[0m\n\u001b[0;32m    279\u001b[0m \u001b[38;5;28;01mif\u001b[39;00m file \u001b[38;5;129;01min\u001b[39;00m {\u001b[38;5;241m0\u001b[39m, \u001b[38;5;241m1\u001b[39m, \u001b[38;5;241m2\u001b[39m}:\n\u001b[0;32m    280\u001b[0m     \u001b[38;5;28;01mraise\u001b[39;00m \u001b[38;5;167;01mValueError\u001b[39;00m(\n\u001b[0;32m    281\u001b[0m         \u001b[38;5;124mf\u001b[39m\u001b[38;5;124m\"\u001b[39m\u001b[38;5;124mIPython won\u001b[39m\u001b[38;5;124m'\u001b[39m\u001b[38;5;124mt let you open fd=\u001b[39m\u001b[38;5;132;01m{\u001b[39;00mfile\u001b[38;5;132;01m}\u001b[39;00m\u001b[38;5;124m by default \u001b[39m\u001b[38;5;124m\"\u001b[39m\n\u001b[0;32m    282\u001b[0m         \u001b[38;5;124m\"\u001b[39m\u001b[38;5;124mas it is likely to crash IPython. If you know what you are doing, \u001b[39m\u001b[38;5;124m\"\u001b[39m\n\u001b[0;32m    283\u001b[0m         \u001b[38;5;124m\"\u001b[39m\u001b[38;5;124myou can use builtins\u001b[39m\u001b[38;5;124m'\u001b[39m\u001b[38;5;124m open.\u001b[39m\u001b[38;5;124m\"\u001b[39m\n\u001b[0;32m    284\u001b[0m     )\n\u001b[1;32m--> 286\u001b[0m \u001b[38;5;28;01mreturn\u001b[39;00m \u001b[43mio_open\u001b[49m\u001b[43m(\u001b[49m\u001b[43mfile\u001b[49m\u001b[43m,\u001b[49m\u001b[43m \u001b[49m\u001b[38;5;241;43m*\u001b[39;49m\u001b[43margs\u001b[49m\u001b[43m,\u001b[49m\u001b[43m \u001b[49m\u001b[38;5;241;43m*\u001b[39;49m\u001b[38;5;241;43m*\u001b[39;49m\u001b[43mkwargs\u001b[49m\u001b[43m)\u001b[49m\n",
      "\u001b[1;31mFileNotFoundError\u001b[0m: [Errno 2] No such file or directory: 'hello-python.tldr'"
     ]
    }
   ],
   "source": [
    "import os\n",
    "\n",
    "def load_tldraw_document(filename):\n",
    "    with open(filename, 'r', encoding='utf-8') as file:\n",
    "        return file.read()\n",
    "def tldraw_diff(file1, file2):\n",
    "    print(\"Current working directory:\", os.getcwd())\n",
    "    # Charger le contenu des documents tldraw\n",
    "    content1 = load_tldraw_document(file1)\n",
    "    content2 = load_tldraw_document(file2)\n",
    "\n",
    "    # Afficher les différences\n",
    "    display_diff_text(content1, content2)\n",
    "\n",
    "# Exemple d'utilisation :\n",
    "tldraw_diff(\"hello-python.tldr\", \"hello-tldraw.tldr\")"
   ]
  },
  {
   "cell_type": "code",
   "execution_count": null,
   "metadata": {},
   "outputs": [],
   "source": []
  }
 ],
 "metadata": {
  "kernelspec": {
   "display_name": "Python 3 (ipykernel)",
   "language": "python",
   "name": "python3"
  },
  "language_info": {
   "codemirror_mode": {
    "name": "ipython",
    "version": 3
   },
   "file_extension": ".py",
   "mimetype": "text/x-python",
   "name": "python",
   "nbconvert_exporter": "python",
   "pygments_lexer": "ipython3",
   "version": "3.11.4"
  }
 },
 "nbformat": 4,
 "nbformat_minor": 4
}
