{
 "cells": [
  {
   "cell_type": "markdown",
   "id": "6afeba13-eb70-47c4-a2b1-7b987782a7a9",
   "metadata": {},
   "source": [
    "---\n",
    "title: Layers\n",
    "date: 2023-12-1 \n",
    "authors:\n",
    "  - name: Sébastien Boisgérault\n",
    "    email: Sebastien.Boisgerault@minesparis.psl.eu\n",
    "    url: https://github.com/boisgera\n",
    "    affiliations:\n",
    "      - institution: Mines Paris - PSL University\n",
    "        department: Institut des Transformation Numériques (ITN)\n",
    "github: boisgera\n",
    "license: CC-BY-4.0\n",
    "open_access: true\n",
    "---"
   ]
  },
  {
   "cell_type": "markdown",
   "id": "08881845-8a6c-4dff-9877-ab61c5d6d41d",
   "metadata": {},
   "source": [
    "# Stack of Cards\n",
    "\n",
    "\n",
    "```{exercise}\n",
    "1. Create a set of filled rectangles with the following sequence of colors: black, violet, blue, orange green and red. \n",
    "2. If necessary, move the rectangles so that they overlap and you can see which one is on top of the other.\n",
    "3. Which one is at the back of the document? Which one is at the top?  \n",
    "```"
   ]
  },
  {
   "cell_type": "markdown",
   "id": "cdb53dff-710c-4543-94df-ad1530f70ec8",
   "metadata": {},
   "source": [
    "![Layers](images/layers.png)"
   ]
  },
  {
   "cell_type": "code",
   "execution_count": 1,
   "id": "538d2c58-54c3-4bf8-9915-9f75d85cc939",
   "metadata": {},
   "outputs": [],
   "source": [
    "#Le rectangle noir est le plus derrière du document et le rouge est le plus en haut"
   ]
  },
  {
   "cell_type": "markdown",
   "id": "41908045-4a55-4965-b015-ff860fb94096",
   "metadata": {},
   "source": [
    "# The Index\n",
    " "
   ]
  },
  {
   "cell_type": "markdown",
   "id": "c06f49bf-8844-4c94-83c5-c4d6e6056c5b",
   "metadata": {},
   "source": [
    "```{exercise}\n",
    ":label: second\n",
    "1. List the colors of all the shapes in your document, in the order in which they appear. What can you say?\n",
    "2. In Python, edit your document to make the red rectangle appear *before* every other rectangle. \n",
    "Does this change the (relative) depth of this rectangle?\n",
    "3. List again the colors of all the shapes in your document and the corresponding *index*, a string which is an attribute of the shape.\n",
    "4. Compare the lexicographic order between these strings and their depth in the document. What can you say?\n",
    "```\n",
    "\n",
    "````{note} Lexicographic order\n",
    "\n",
    "   When Python strings are compared and sorted, by default the lexicographic order is used.\n",
    "\n",
    "   The lexicographic order generalizes the alphabetical order:\n",
    "\n",
    "   ```\n",
    "   >>> \"alpaca\" < \"guanaco\" < \"lama\" < \"vicuña\"\n",
    "   True\n",
    "   ```\n",
    "\n",
    "   When the first letters are identical, the shorter strings is sorted first:\n",
    "   ```\n",
    "   >>> \"a\" < \"alp\" < \"alpaca\"\n",
    "   True\n",
    "   ```\n",
    "\n",
    "   All uppercase letters come before lowercase letters:\n",
    "   \n",
    "   ```\n",
    "   >>> \"A\" < \"Z\" < \"a\" < \"z\"\n",
    "   ```\n",
    "\n",
    "   and therefore \n",
    "\n",
    "   ```\n",
    "   >>> \"Vicuña\" < \"alpaca\" < \"vicuña\"\n",
    "   True\n",
    "   ```\n",
    "\n",
    "   Digits are ordered \"naturally\":\n",
    "\n",
    "   ```\n",
    "   >>> \"0\" < \"1\" < \"2\" < \"3\" < \"4\" < \"5\" < \"6\" < \"7\" < \"8\" < \"9\"\n",
    "   True\n",
    "   ```\n",
    "\n",
    "   However, beware of the comparison of strings that represent numbers:\n",
    "\n",
    "   ```\n",
    "   >>> \"2\" < \"100\"\n",
    "   False\n",
    "   >>> sorted([\"2\", \"100\"])\n",
    "   ['100', '2']\n",
    "   ```\n",
    "\n",
    "   All digits come before letters:\n",
    "\n",
    "   ```\n",
    "   >>> \"0\" < \"1\" < \"9\" < \"A\" < \"B\" < \"Z\" < \"a\" < \"b\" < \"z\"\n",
    "   True\n",
    "   ```\n",
    "\n",
    "\n",
    "\n",
    "````"
   ]
  },
  {
   "cell_type": "code",
   "execution_count": 9,
   "id": "c8db4029-6e1a-49a9-9b2f-c6d76a48be65",
   "metadata": {},
   "outputs": [
    {
     "name": "stdout",
     "output_type": "stream",
     "text": [
      "['grey', 'violet', 'light-blue', 'orange', 'green', 'red']\n"
     ]
    }
   ],
   "source": [
    "import json\n",
    "chemin_fichier_tldr = 'C:\\\\Users\\\\Etudiant\\\\info-minesparis\\\\tldraw_new2\\\\docs\\\\rectangles.tldr'\n",
    "def load_tldraw_doc(file_path) :\n",
    "    with open(file_path, 'rt', encoding='utf-8') as fichier:\n",
    "        contenu_fichier = fichier.read()\n",
    "    return contenu_fichier\n",
    "contenu_fichier= load_tldraw_doc(chemin_fichier_tldr)\n",
    "document_data = json.loads(contenu_fichier)\n",
    "# Liste pour stocker les couleurs dans l'ordre\n",
    "colors_in_order = []\n",
    "\n",
    "# Parcourir les enregistrements (records) du document\n",
    "for record in document_data['records']:\n",
    "    # Vérifier si l'enregistrement est de type \"shape\"\n",
    "    if record['typeName'] == 'shape':\n",
    "        # Vérifier si l'enregistrement a une propriété \"color\"\n",
    "        if 'color' in record['props']:\n",
    "            # Ajouter la couleur à la liste\n",
    "            colors_in_order.append(record['props']['color'])\n",
    "\n",
    "# Afficher les couleurs\n",
    "print(colors_in_order)\n",
    "#On observe que les couleurs apparaissent dans l'ordre de celle la plus au fond à celle la plus devant (grey remplace noir)\n"
   ]
  },
  {
   "cell_type": "code",
   "execution_count": 13,
   "id": "27ecc72c-7b86-4228-9e27-9569dfa012f8",
   "metadata": {},
   "outputs": [],
   "source": [
    "# 2/\n",
    "#Identifier l'index du rectangle rouge\n",
    "index_rectangle_rouge = None\n",
    "\n",
    "# Parcourir les enregistrements (records) du document\n",
    "for i, record in enumerate(document_data['records']):\n",
    "    # Vérifier si l'enregistrement est de type \"shape\"\n",
    "    if record['typeName'] == 'shape':\n",
    "        # Vérifier si l'enregistrement a une propriété \"color\"\n",
    "        if 'color' in record['props']:\n",
    "            # Ajouter la couleur à la liste\n",
    "            colors_in_order.append(record['props']['color'])\n",
    "        \n",
    "        # Vérifier si c'est le rectangle rouge\n",
    "        if record.get('type') == 'geo' and record.get('props', {}).get('color') == 'red':\n",
    "            index_rectangle_rouge = i\n",
    "\n",
    "# Si le rectangle rouge est trouvé, le déplacer au début de la liste\n",
    "if index_rectangle_rouge is not None:\n",
    "    document_data['records'].insert(0, document_data['records'].pop(index_rectangle_rouge))\n",
    "\n",
    "# Afficher les couleurs\n",
    "\n",
    "# Enregistrer les modifications dans un nouveau fichier\n",
    "with open('rectangles_modifie.tldr', 'wt', encoding='utf-8') as fichier_modifie:\n",
    "    fichier_modifie.write(json.dumps(document_data, indent=2))"
   ]
  },
  {
   "cell_type": "code",
   "execution_count": 22,
   "id": "295864a1-155a-4945-b7fa-36386fec3015",
   "metadata": {},
   "outputs": [
    {
     "name": "stdout",
     "output_type": "stream",
     "text": [
      "['red', 'grey', 'violet', 'light-blue', 'orange', 'green']\n"
     ]
    }
   ],
   "source": [
    "#On vérifie en réouvrant le document et en listant les couleurs tout en l'ouvrant dans tldraw\n",
    "file_path = 'C:\\\\Users\\\\Etudiant\\\\info-minesparis\\\\intro\\\\notebooks\\\\numerique\\\\notebooks\\\\tldraw-project\\\\rectangles_modifie.tldr'\n",
    "with open(file_path, 'rt', encoding='utf-8') as fichier:\n",
    "        contenu_fichier = fichier.read()\n",
    "document_data = json.loads(contenu_fichier)\n",
    "# Liste pour stocker les couleurs dans l'ordre\n",
    "colors_in_order = []\n",
    "\n",
    "# Parcourir les enregistrements (records) du document\n",
    "for record in document_data['records']:\n",
    "    # Vérifier si l'enregistrement est de type \"shape\"\n",
    "    if record['typeName'] == 'shape':\n",
    "        # Vérifier si l'enregistrement a une propriété \"color\"\n",
    "        if 'color' in record['props']:\n",
    "            # Ajouter la couleur à la liste\n",
    "            colors_in_order.append(record['props']['color'])\n",
    "\n",
    "# Afficher les couleurs\n",
    "print(colors_in_order)\n",
    "\n",
    "#On observe que ça ne change pas la \"profondeur\" des rectangles, le rouge est toujours celui le plus devant"
   ]
  },
  {
   "cell_type": "code",
   "execution_count": 23,
   "id": "dfd40a87-9621-400f-8c58-4201c426ff1b",
   "metadata": {},
   "outputs": [
    {
     "name": "stdout",
     "output_type": "stream",
     "text": [
      "Index: 0, Color: red\n",
      "Index: 7, Color: grey\n",
      "Index: 8, Color: violet\n",
      "Index: 9, Color: light-blue\n",
      "Index: 10, Color: orange\n",
      "Index: 11, Color: green\n"
     ]
    }
   ],
   "source": [
    "#3/\n",
    "colors_with_index = []\n",
    "\n",
    "# Parcourir les enregistrements (records) du document\n",
    "for index, record in enumerate(document_data['records']):\n",
    "    # Vérifier si l'enregistrement est de type \"shape\"\n",
    "    if record['typeName'] == 'shape':\n",
    "        # Vérifier si l'enregistrement a une propriété \"color\"\n",
    "        if 'color' in record['props']:\n",
    "            # Ajouter la couleur avec l'index correspondant à la liste\n",
    "            colors_with_index.append((index, record['props']['color']))\n",
    "\n",
    "# Afficher les couleurs avec les index correspondants\n",
    "for index, color in colors_with_index:\n",
    "    print(f\"Index: {index}, Color: {color}\")"
   ]
  },
  {
   "cell_type": "code",
   "execution_count": null,
   "id": "6c5f4499-65b7-4f76-98a1-b3083fea7c63",
   "metadata": {},
   "outputs": [],
   "source": [
    "#4/ L'ordre lexicographique des couleurs est : 1.  green 2. grey 3. light blue 4. orange 5. red 6. violet\n",
    "# Cela n'a pas de lien avec leurs indexs"
   ]
  },
  {
   "cell_type": "markdown",
   "id": "5541ef7f-67f5-48f9-8486-20bfa5b17109",
   "metadata": {},
   "source": [
    "# Fractional Indexing"
   ]
  },
  {
   "cell_type": "markdown",
   "id": "b2aa9801-d18f-4439-bebf-67c1fbe2e5fd",
   "metadata": {},
   "source": [
    "```{exercise}\n",
    "1. In the tldraw editor, insert a yellow rectangle into the document and use \"Actions/Send backward\" repeatedly to put it in a layer between the red and violet rectangles.\n",
    "2. Save this document and load it in Python.  Did the indices of the old rectangles change? \n",
    "3. What is the index of the new rectangle? Is this value consistent with the assumption you made in question 4 of [](#second)?\n",
    "```"
   ]
  },
  {
   "cell_type": "code",
   "execution_count": 21,
   "id": "769f4f69-66e8-4759-931d-1bd88e5947f9",
   "metadata": {},
   "outputs": [
    {
     "name": "stdout",
     "output_type": "stream",
     "text": [
      "Index: 6, Color: red\n",
      "Index: 7, Color: grey\n",
      "Index: 8, Color: violet\n",
      "Index: 9, Color: light-blue\n",
      "Index: 10, Color: orange\n",
      "Index: 11, Color: green\n",
      "Index: 12, Color: yellow\n"
     ]
    }
   ],
   "source": [
    "file_path = 'C:\\\\Users\\\\Etudiant\\\\info-minesparis\\\\intro\\\\notebooks\\\\numerique\\\\notebooks\\\\tldraw-project\\\\rectangles+1.tldr'\n",
    "with open(file_path, 'rt', encoding='utf-8') as fichier:\n",
    "        contenu_fichier = fichier.read()\n",
    "document_data = json.loads(contenu_fichier)\n",
    "\n",
    "colors_with_index = []\n",
    "\n",
    "# Parcourir les enregistrements (records) du document\n",
    "for index, record in enumerate(document_data['records']):\n",
    "    # Vérifier si l'enregistrement est de type \"shape\"\n",
    "    if record['typeName'] == 'shape':\n",
    "        # Vérifier si l'enregistrement a une propriété \"color\"\n",
    "        if 'color' in record['props']:\n",
    "            # Ajouter la couleur avec l'index correspondant à la liste\n",
    "            colors_with_index.append((index, record['props']['color']))\n",
    "\n",
    "# Afficher les couleurs avec les index correspondants\n",
    "for index, color in colors_with_index:\n",
    "    print(f\"Index: {index}, Color: {color}\")"
   ]
  },
  {
   "cell_type": "code",
   "execution_count": 24,
   "id": "6a2b15a9-a760-4d35-8cd4-350787339556",
   "metadata": {},
   "outputs": [],
   "source": [
    "#On observe que l'indice du rectangle rouge est passé de 0 à 6 c'est du aux modifications du jaune qui a du décaler tous les indexs lors de sa création\n",
    "#En envoyant vers l'arrière le rectangle jaune, nous avons décalé l'indice de toutes les couleurs après lui de 1"
   ]
  },
  {
   "cell_type": "markdown",
   "id": "14735fa1-8341-49a6-95ff-dff0882d38e0",
   "metadata": {},
   "source": [
    "![Yellow rectangle](images/add-yellow.png)"
   ]
  },
  {
   "cell_type": "markdown",
   "id": "2d9ac9b7-0771-4b4d-91ed-ac83d6e7bd77",
   "metadata": {},
   "source": [
    "Tldraw uses a technique called **fractional indexing** to generate new indices that fit between the existing ones.\n",
    "It is explained in details in the [Implementing Fractional Indexing](https://observablehq.com/@dgreensp/implementing-fractional-indexing) Observable (Javascript) notebook.\n",
    "\n",
    "The core idea of this method is to build a representation of indices as fractions in $\\left[0, 1\\right[$ which maps the\n",
    "lexicographic order into the the usual order on $\\mathbb{Q}$, \n",
    "then to solve the generation of intermediate indices in the fractional space since it's much easier there."
   ]
  },
  {
   "cell_type": "markdown",
   "id": "4ca6fd42-4078-4ef7-aee4-c299a0aa63fe",
   "metadata": {},
   "source": [
    "We associate to any string $\\mathtt{s}$ using only the 62 characters `\"0\"`, `\"1\"`, ... `\"9\"`, `\"A\"`, ... `\"Z\"`, `\"a\"`, ..., `\"z\"` as a fraction $\\mathcal{F}(\\mathtt{s}) \\in \\left[0, 1\\right[$ such that:\n",
    "\n",
    "$$\n",
    "\\mathcal{F}(\\mathtt{\"\"}) = 0\n",
    "$$\n",
    "\n",
    "$$\n",
    "\\mathcal{F}(\\mathtt{\"0\"}) = 0, \\; \\mathcal{F}(\\mathtt{\"1\"}) = \\frac{1}{62}, \\; \\dots\n",
    "$$\n",
    "\n",
    "$$\n",
    "\\mathcal{F}(\\mathtt{\"A\"}) = \\frac{10}{62}, \\; \\mathcal{F}(\\mathtt{\"B\"}) = \\frac{11}{62}, \\; \\dots\n",
    "$$\n",
    "$$\n",
    "\\mathcal{F}(\\mathtt{\"a\"}) = \\frac{36}{62}, \\; \\mathcal{F}(\\mathtt{\"b\"}) = \\frac{37}{62},\n",
    "\\; \\mathcal{F}(\\mathtt{\"z\"}) = \\frac{61}{62}.\n",
    "$$\n",
    "\n",
    "and for any character $\\mathtt{c}$ (i.e. string of length 1) and any string $\\mathtt{s}$,\n",
    "\n",
    "$$\n",
    "\\mathcal{F}(\\mathtt{c + s}) = \\mathcal{F}(\\mathtt{c}) + \\frac{\\mathcal{F}(\\mathtt{s})}{62}. \n",
    "$$\n",
    "\n",
    "For example:\n",
    "\n",
    "$$\n",
    "\\mathcal{F}(\\mathtt{\"abc\"})\n",
    "= \\frac{\\mathcal{F}(\\mathtt{\"a\"})}{62} + \\frac{\\mathcal{F}(\\mathtt{\"b\"})}{62^2} + \\frac{\\mathcal{F}(\\mathtt{\"c\"})}{62^3}\n",
    "= \\frac{36}{62} + \\frac{37}{62^2} + \\frac{38}{62^3}\n",
    "= \\frac{35179}{59582}\n",
    "$$\n",
    "    "
   ]
  },
  {
   "cell_type": "markdown",
   "id": "f787a69a-353c-4bcf-9189-38bc1d32ce2f",
   "metadata": {},
   "source": [
    "```{exercise}\n",
    "1. Assume that $\\mathcal{F}(\\mathtt{s1}) = \\mathcal{F}(\\mathtt{s2})$. What does this equality tell you about $\\mathtt{s1}$ and $\\mathtt{s2}$? \n",
    "2. Implement $\\mathcal{F}$ as `F` using the `fractions` module of the Python standard library.\n",
    "3. Make sure that all tests in the cell below pass.\n",
    "```"
   ]
  },
  {
   "cell_type": "code",
   "execution_count": 25,
   "id": "09044de5-0b3e-4de2-8861-6248e40756f1",
   "metadata": {},
   "outputs": [],
   "source": [
    "#1/F(s1) = F(s) + F(1)/62 \n",
    "# F(s2) = F(s) + F(2)/62 \n",
    "# Si F(s1) = F(s2) alors F(1) = F(2)"
   ]
  },
  {
   "cell_type": "code",
   "execution_count": 45,
   "id": "c989ccab-5fce-4d4e-8c93-17c04c0ae915",
   "metadata": {},
   "outputs": [],
   "source": [
    "from fractions import Fraction\n",
    "\n",
    "ENABLE_TESTS = False # ℹ️ Set to True to test F whenever the cell is executed\n",
    "\n",
    "def F(string):\n",
    "    result = Fraction(0, 1)\n",
    "    base = 62\n",
    "\n",
    "    for char in string:\n",
    "        if '0' <= char <= '9':\n",
    "            value = int(char)\n",
    "        elif 'A' <= char <= 'Z':\n",
    "            value = ord(char) - ord('A') + 10\n",
    "        elif 'a' <= char <= 'z':\n",
    "            value = ord(char) - ord('a') + 36\n",
    "        else:\n",
    "            raise ValueError(f\"Invalid character: {char}\")\n",
    "\n",
    "        result = result * base + value\n",
    "\n",
    "    return result / (base ** len(string))\n",
    "\n",
    "\n",
    "    \"\"\"\n",
    "    >>> F(\"\") == Fraction(0, 62)\n",
    "    True\n",
    "    >>> F(\"0\") == Fraction(0, 62)  # ⚠️ Trailing zero!\n",
    "    True\n",
    "    >>> F(\"1\") == Fraction(1, 62)\n",
    "    True\n",
    "    >>> F(\"1000\") == Fraction(1, 62)  # ⚠️ Trailing zeros!\n",
    "    True\n",
    "    >>> F(\"9\") == Fraction(9, 62)\n",
    "    True\n",
    "    >>> F(\"A\") == Fraction(10, 62)\n",
    "    True\n",
    "    >>> F(\"Z\") == Fraction(35, 62)\n",
    "    True\n",
    "    >>> F(\"a\") == Fraction(36, 62)\n",
    "    True\n",
    "    >>> F(\"z\") == Fraction(61, 62)\n",
    "    True\n",
    "    \n",
    "    >>> F(\"a1\") == F(\"a\") + F(\"1\") / 62\n",
    "    True\n",
    "    >>> F(\"a1\")\n",
    "    Fraction(2233, 3844)\n",
    "    >>> F(\"a2\") == F(\"a\") + F(\"2\") / 62\n",
    "    True\n",
    "    >>> F(\"a2\")\n",
    "    Fraction(1117, 1922)\n",
    "    >>> F(\"a3\") == F(\"a\") + F(\"3\") / 62\n",
    "    True\n",
    "    >>> F(\"a3\")\n",
    "    Fraction(2235, 3844)\n",
    "\n",
    "    >>> F(\"abc\") == Fraction(35179, 59582)\n",
    "    True\n",
    "    >>> F(\"aardvark\") == Fraction(32218019837031, 54585026396224)\n",
    "    True\n",
    "    \"\"\"\n",
    "# 🚧 TODO: implement this function\n",
    "\n",
    "if ENABLE_TESTS: \n",
    "    import doctest\n",
    "    doctest.run_docstring_examples(F, globals())\n"
   ]
  },
  {
   "cell_type": "markdown",
   "id": "6d92075e-3a67-48af-9e4f-afcfa443a131",
   "metadata": {},
   "source": [
    "```{exercise}\n",
    "1. Implement the inverse of the function $\\mathcal{F}$ (restricted to the strings with no trailing zeros) as a function `iF`.\n",
    "2. Make sure that all tests in the cell below pass.\n",
    "```"
   ]
  },
  {
   "cell_type": "code",
   "execution_count": 52,
   "id": "f51f104d-8625-4f0e-84c4-dcabad713c3b",
   "metadata": {},
   "outputs": [
    {
     "name": "stdout",
     "output_type": "stream",
     "text": [
      "iF(F('')) = ''\n",
      "iF(F('1')) = '1/62'\n",
      "iF(F('A')) = '5/31'\n",
      "iF(F('a')) = '18/31'\n",
      "iF(F('abc')) = '35179/59582'\n",
      "iF(F('aardvark')) = '32218019837031/54585026396224'\n"
     ]
    }
   ],
   "source": [
    "ENABLE_TESTS = False # ℹ️ Set to True to test F whenever the cell is executed\n",
    "\n",
    "def iF(fraction):\n",
    "    if fraction.numerator == 0:\n",
    "        return \"\"\n",
    "\n",
    "    base = 62\n",
    "    result = \"\"\n",
    "\n",
    "    while fraction > 0:\n",
    "        digit = fraction % base\n",
    "\n",
    "        if 0 <= digit <= 9:\n",
    "            result = str(digit) + result\n",
    "        elif 10 <= digit <= 35:\n",
    "            result = chr(ord('A') + digit - 10) + result\n",
    "        else:\n",
    "            result = chr(ord('a') + digit - 36) + result\n",
    "\n",
    "        fraction //= base\n",
    "\n",
    "    return result\n",
    "\n",
    "# Run tests\n",
    "test_inputs = [\"\", \"1\", \"A\", \"a\", \"abc\", \"aardvark\"]\n",
    "for test_input in test_inputs:\n",
    "    f_value = F(test_input)\n",
    "    print(f\"iF(F('{test_input}')) = '{iF(f_value)}'\")\n",
    "    \"\"\"\n",
    "    >>> iF(F(\"\")) == \"\"\n",
    "    True\n",
    "    >>> iF(F(\"1\")) == \"1\"\n",
    "    True\n",
    "    >>> iF(F(\"A\")) == \"A\"\n",
    "    True\n",
    "    >>> iF(F(\"a\")) == \"a\"\n",
    "    True\n",
    "    >>> iF(F(\"abc\")) == \"abc\"\n",
    "    True\n",
    "    >>> iF(F(\"aardvark\")) == \"aardvark\"\n",
    "    True\n",
    "    \"\"\"\n",
    "     # 🚧 TODO: implement this function\n",
    "\n",
    "if ENABLE_TESTS: \n",
    "    import doctest\n",
    "    doctest.run_docstring_examples(iF, globals())\n"
   ]
  },
  {
   "cell_type": "markdown",
   "id": "ce370018-0eb4-4797-b7c9-a06b373b988b",
   "metadata": {},
   "source": [
    "```{exercise}\n",
    "1. Prove that if the strings $\\mathtt{s1}$ and $\\mathtt{s2}$ have no trailing zeros (e.g. \"hello\" is ok but not \"hell0\"),\n",
    "then $\\mathtt{s1} \\leq \\mathtt{s2}$ (in the lexicographic order) if and only if $\\mathcal{F}(\\mathtt{s1}) \\leq \\mathcal{F}(\\mathtt{s2})$\n",
    "(in the usual order on $\\mathbb{Q}$).\n",
    "\n",
    "2. Show that for any valid index (with no trailing zero), the formula\n",
    "\n",
    "   $$\n",
    "   \\mathtt{index\\_3} \n",
    "   = \n",
    "   \\mathcal{F}^{-1}\n",
    "   \\left(\n",
    "     \\frac{\n",
    "       \\mathcal{F}(\\mathtt{index\\_1}) + \\mathcal{F}(\\mathtt{index\\_2})\n",
    "     }{2}\n",
    "   \\right)\n",
    "   $$\n",
    "\n",
    "   defines a valid index.\n",
    "\n",
    "3. How are (lexicographically) ordered the strings $\\mathtt{index\\_1}, \\mathtt{index\\_2}$ and $\\mathtt{index\\_3}$?\n",
    "\n",
    "4. Implement a function `index_between` based on this analysis. Make sure that all the tests in the cell below pass.\n",
    "```"
   ]
  },
  {
   "cell_type": "code",
   "execution_count": 6,
   "id": "b3db2ca8-c99c-4961-82ed-a583e207bb8d",
   "metadata": {},
   "outputs": [],
   "source": [
    "ENABLE_TESTS = False # ℹ️ Set to True to test F whenever the cell is executed\n",
    "\n",
    "def index_between(index_1, index_2):\n",
    "    \"\"\"\n",
    "    >>> index_between(\"1\", \"2\")\n",
    "    '1V'\n",
    "    >>> index_between(\"a\", \"b\")\n",
    "    'aV'\n",
    "    >>> index_between(\"aardvark\", \"aardwolf\")\n",
    "    'aardwCohV'\n",
    "    \"\"\"\n",
    "    pass # 🚧 TODO: implement this function\n",
    "    \n",
    "if ENABLE_TESTS:\n",
    "    import doctest\n",
    "    doctest.run_docstring_examples(index_between, globals())"
   ]
  },
  {
   "cell_type": "markdown",
   "id": "0cb2553f-6847-427d-8f63-9d805c76e524",
   "metadata": {},
   "source": [
    "# Application\n",
    "\n",
    "```{exercise}\n",
    "1. Go back to your tldraw editor and bring your yellow rectangle to front.\n",
    "2. Save the corresponding document and load it as a Python object.\n",
    "3. Use the `index_between` function to patch its depth so that it goes back between the black and violet rectangles.\n",
    "4. Save the document and reload it into the tldraw editor to check that it worked.\n",
    "```"
   ]
  },
  {
   "cell_type": "markdown",
   "id": "5917af10-0dfc-45da-bcf6-8503395dca7c",
   "metadata": {},
   "source": [
    "\n",
    "![Add yellow on top](images/add-yellow-on-top.png)"
   ]
  }
 ],
 "metadata": {
  "kernelspec": {
   "display_name": "Python 3 (ipykernel)",
   "language": "python",
   "name": "python3"
  },
  "language_info": {
   "codemirror_mode": {
    "name": "ipython",
    "version": 3
   },
   "file_extension": ".py",
   "mimetype": "text/x-python",
   "name": "python",
   "nbconvert_exporter": "python",
   "pygments_lexer": "ipython3",
   "version": "3.11.4"
  }
 },
 "nbformat": 4,
 "nbformat_minor": 5
}
