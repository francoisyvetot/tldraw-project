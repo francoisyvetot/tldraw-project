{
 "cells": [
  {
   "cell_type": "markdown",
   "id": "2d474a3e-274d-4bf8-95f3-2c18179877d9",
   "metadata": {},
   "source": [
    "---\n",
    "title: Getting Started\n",
    "date: 2023-11-30 \n",
    "authors:\n",
    "  - name: Sébastien Boisgérault\n",
    "    email: Sebastien.Boisgerault@minesparis.psl.eu\n",
    "    url: https://github.com/boisgera\n",
    "    affiliations:\n",
    "      - institution: Mines Paris - PSL University\n",
    "        department: Institut des Transformation Numériques (ITN)\n",
    "github: boisgera\n",
    "license: CC-BY-4.0\n",
    "open_access: true\n",
    "---"
   ]
  },
  {
   "cell_type": "markdown",
   "id": "99eb7623-348a-4873-9200-614c9be5bdb6",
   "metadata": {},
   "source": [
    "![tldraw](images/hello-tldraw.png)    "
   ]
  },
  {
   "cell_type": "markdown",
   "id": "f2cbb2bd-92e6-4c23-95b5-7996e1850533",
   "metadata": {},
   "source": [
    "# A Simple Document"
   ]
  },
  {
   "cell_type": "markdown",
   "id": "c95958ae-0e8e-40b3-9a1a-963745eda44e",
   "metadata": {},
   "source": [
    "```{exercise} Create a \"Hello tldraw!\" document\n",
    "\n",
    " 1. Download the folder of this project on your computer. \n",
    "  \n",
    " 2. Create an tldraw document that contains the text \"Hello tldraw!\" and save it on your computer.\n",
    " \n",
    " 3. Rename your tldraw document `hello-tldraw.tldr` and move it into the `docs` subfolder of the project.\n",
    "```"
   ]
  },
  {
   "cell_type": "code",
   "execution_count": 6,
   "id": "cd159124-a93d-44ff-8667-89a11554e6b9",
   "metadata": {},
   "outputs": [
    {
     "name": "stdout",
     "output_type": "stream",
     "text": [
      "Le dossier du projet a été téléchargé avec succès sur votre ordinateur.\n"
     ]
    }
   ],
   "source": [
    "#1/\n",
    "import shutil\n",
    "\n",
    "chemin_dossier_projet = 'C:\\\\Users\\\\Etudiant\\\\info-minesparis\\\\intro\\\\notebooks\\\\numerique\\\\notebooks\\\\tldraw-project'\n",
    "\n",
    "chemin_destination = 'C:\\\\Users\\\\Etudiant\\\\info-minesparis\\\\tldraw_new2'\n",
    "\n",
    "# Copiez récursivement le dossier du projet vers la destination\n",
    "shutil.copytree(chemin_dossier_projet, chemin_destination)\n",
    "\n",
    "print(\"Le dossier du projet a été téléchargé avec succès sur votre ordinateur.\")\n",
    "\n"
   ]
  },
  {
   "cell_type": "markdown",
   "id": "f663cb6a-c804-4438-a6bb-7132a7c86332",
   "metadata": {},
   "source": [
    "Tldraw files are (utf-8-encoded) text files and therefore can be easily inspected. \n",
    "\n",
    "```{exercise} What's the format of tldraw documents?\n",
    "\n",
    "  1. Print the content of your \"Hello tldraw!\" document into this notebook.\n",
    "\n",
    "  2. The tldraw document format is a dialect of a general-purpose structured data format. \n",
    "  \n",
    "     Which one is it? (JSON, XML, CSV? something else?)\n",
    "\n",
    "```\n"
   ]
  },
  {
   "cell_type": "code",
   "execution_count": 11,
   "id": "b5507de5-976a-4b9c-a186-3c37af2e7b55",
   "metadata": {},
   "outputs": [
    {
     "name": "stdout",
     "output_type": "stream",
     "text": [
      "{\"tldrawFileFormatVersion\":1,\"schema\":{\"schemaVersion\":1,\"storeVersion\":4,\"recordVersions\":{\"asset\":{\"version\":1,\"subTypeKey\":\"type\",\"subTypeVersions\":{\"image\":3,\"video\":3,\"bookmark\":1}},\"camera\":{\"version\":1},\"document\":{\"version\":2},\"instance\":{\"version\":24},\"instance_page_state\":{\"version\":5},\"page\":{\"version\":1},\"shape\":{\"version\":3,\"subTypeKey\":\"type\",\"subTypeVersions\":{\"group\":0,\"text\":1,\"bookmark\":2,\"draw\":1,\"geo\":8,\"note\":5,\"line\":1,\"frame\":0,\"arrow\":3,\"highlight\":0,\"embed\":4,\"image\":3,\"video\":2}},\"instance_presence\":{\"version\":5},\"pointer\":{\"version\":1}}},\"records\":[{\"gridSize\":10,\"name\":\"\",\"meta\":{},\"id\":\"document:document\",\"typeName\":\"document\"},{\"meta\":{},\"id\":\"page:page\",\"name\":\"Page 1\",\"index\":\"a1\",\"typeName\":\"page\"},{\"x\":416.453125,\"y\":327.4687690734863,\"rotation\":0,\"isLocked\":false,\"opacity\":1,\"meta\":{},\"type\":\"text\",\"props\":{\"color\":\"black\",\"size\":\"m\",\"w\":183.09375,\"text\":\"\\\"Hello tldraw!\\\"\",\"font\":\"draw\",\"align\":\"middle\",\"autoSize\":true,\"scale\":1.8437292092882391},\"parentId\":\"page:page\",\"index\":\"a1\",\"id\":\"shape:bjaC7PmQ8gB0-iGJ0ZN74\",\"typeName\":\"shape\"},{\"followingUserId\":null,\"opacityForNextShape\":1,\"stylesForNextShape\":{},\"brush\":null,\"scribbles\":[],\"cursor\":{\"type\":\"default\",\"rotation\":0},\"isFocusMode\":false,\"exportBackground\":true,\"isDebugMode\":false,\"isToolLocked\":false,\"screenBounds\":{\"x\":0,\"y\":0,\"w\":1280,\"h\":585.3333740234375},\"insets\":[false,false,true,false],\"zoomBrush\":null,\"isGridMode\":false,\"isPenMode\":false,\"chatMessage\":\"\",\"isChatting\":false,\"highlightedUserIds\":[],\"canMoveCamera\":true,\"isFocused\":true,\"devicePixelRatio\":1.5,\"isCoarsePointer\":false,\"isHoveringCanvas\":false,\"openMenus\":[\"main menu\",\"main menu menu file\"],\"isChangingStyle\":false,\"isReadonly\":false,\"meta\":{},\"duplicateProps\":null,\"id\":\"instance:instance\",\"currentPageId\":\"page:page\",\"typeName\":\"instance\"},{\"x\":0,\"y\":0,\"z\":1,\"meta\":{},\"id\":\"camera:page:page\",\"typeName\":\"camera\"},{\"editingShapeId\":null,\"croppingShapeId\":null,\"selectedShapeIds\":[\"shape:bjaC7PmQ8gB0-iGJ0ZN74\"],\"hoveredShapeId\":null,\"erasingShapeIds\":[],\"hintingShapeIds\":[],\"focusedGroupId\":null,\"meta\":{},\"id\":\"instance_page_state:page:page\",\"pageId\":\"page:page\",\"typeName\":\"instance_page_state\"},{\"id\":\"pointer:pointer\",\"typeName\":\"pointer\",\"x\":58,\"y\":45,\"lastActivityTimestamp\":1707567401285,\"meta\":{}}]}\n"
     ]
    }
   ],
   "source": [
    "chemin_fichier_tldr = 'C:\\\\Users\\\\Etudiant\\\\info-minesparis\\\\tldraw_new2\\\\docs\\\\hello-tldraw.tldr'\n",
    "with open(chemin_fichier_tldr, 'rt', encoding='utf-8') as fichier:\n",
    "    contenu = fichier.read()\n",
    "\n",
    "# Affichez le contenu\n",
    "print(contenu)\n",
    "#2 JSON"
   ]
  },
  {
   "cell_type": "markdown",
   "id": "a8f5e1cc-1425-4394-8d73-47640d66d298",
   "metadata": {},
   "source": [
    "\n",
    "```{exercise} Load the document\n",
    ":label: load\n",
    "\n",
    " 1. Find the Python standard library that deals with the file format use by tldraw.\n",
    "\n",
    " 2. Use it to load the tldraw document as a tree-like structure (⚠️ not as a string!).\n",
    "\n",
    " 3. Name this structure `hello`.\n",
    "\n",
    "```"
   ]
  },
  {
   "cell_type": "code",
   "execution_count": 36,
   "id": "e5e9b960-472e-473c-b8ce-20f33a8e81d3",
   "metadata": {},
   "outputs": [
    {
     "name": "stdout",
     "output_type": "stream",
     "text": [
      "{'tldrawFileFormatVersion': 1, 'schema': {'schemaVersion': 1, 'storeVersion': 4, 'recordVersions': {'asset': {'version': 1, 'subTypeKey': 'type', 'subTypeVersions': {'image': 3, 'video': 3, 'bookmark': 1}}, 'camera': {'version': 1}, 'document': {'version': 2}, 'instance': {'version': 24}, 'instance_page_state': {'version': 5}, 'page': {'version': 1}, 'shape': {'version': 3, 'subTypeKey': 'type', 'subTypeVersions': {'group': 0, 'text': 1, 'bookmark': 2, 'draw': 1, 'geo': 8, 'note': 5, 'line': 1, 'frame': 0, 'arrow': 3, 'highlight': 0, 'embed': 4, 'image': 3, 'video': 2}}, 'instance_presence': {'version': 5}, 'pointer': {'version': 1}}}, 'records': [{'gridSize': 10, 'name': '', 'meta': {}, 'id': 'document:document', 'typeName': 'document'}, {'meta': {}, 'id': 'page:page', 'name': 'Page 1', 'index': 'a1', 'typeName': 'page'}, {'x': 416.453125, 'y': 327.4687690734863, 'rotation': 0, 'isLocked': False, 'opacity': 1, 'meta': {}, 'type': 'text', 'props': {'color': 'black', 'size': 'm', 'w': 183.09375, 'text': '\"Hello tldraw!\"', 'font': 'draw', 'align': 'middle', 'autoSize': True, 'scale': 1.8437292092882391}, 'parentId': 'page:page', 'index': 'a1', 'id': 'shape:bjaC7PmQ8gB0-iGJ0ZN74', 'typeName': 'shape'}, {'followingUserId': None, 'opacityForNextShape': 1, 'stylesForNextShape': {}, 'brush': None, 'scribbles': [], 'cursor': {'type': 'default', 'rotation': 0}, 'isFocusMode': False, 'exportBackground': True, 'isDebugMode': False, 'isToolLocked': False, 'screenBounds': {'x': 0, 'y': 0, 'w': 1280, 'h': 585.3333740234375}, 'insets': [False, False, True, False], 'zoomBrush': None, 'isGridMode': False, 'isPenMode': False, 'chatMessage': '', 'isChatting': False, 'highlightedUserIds': [], 'canMoveCamera': True, 'isFocused': True, 'devicePixelRatio': 1.5, 'isCoarsePointer': False, 'isHoveringCanvas': False, 'openMenus': ['main menu', 'main menu menu file'], 'isChangingStyle': False, 'isReadonly': False, 'meta': {}, 'duplicateProps': None, 'id': 'instance:instance', 'currentPageId': 'page:page', 'typeName': 'instance'}, {'x': 0, 'y': 0, 'z': 1, 'meta': {}, 'id': 'camera:page:page', 'typeName': 'camera'}, {'editingShapeId': None, 'croppingShapeId': None, 'selectedShapeIds': ['shape:bjaC7PmQ8gB0-iGJ0ZN74'], 'hoveredShapeId': None, 'erasingShapeIds': [], 'hintingShapeIds': [], 'focusedGroupId': None, 'meta': {}, 'id': 'instance_page_state:page:page', 'pageId': 'page:page', 'typeName': 'instance_page_state'}, {'id': 'pointer:pointer', 'typeName': 'pointer', 'x': 58, 'y': 45, 'lastActivityTimestamp': 1707567401285, 'meta': {}}]}\n"
     ]
    }
   ],
   "source": [
    "import json\n",
    "with open(chemin_fichier_tldr, 'r', encoding='utf-8') as fichier:\n",
    "    hello = json.load(fichier)\n",
    "print(hello)"
   ]
  },
  {
   "cell_type": "markdown",
   "id": "a6ce392d-b8fa-4df2-a5e1-e5c9b81dffc8",
   "metadata": {},
   "source": [
    "# Records & Shapes"
   ]
  },
  {
   "cell_type": "markdown",
   "id": "c30a7788-e59e-42ab-a5da-c43aa1bb0872",
   "metadata": {},
   "source": [
    "```{exercise} Structure\n",
    ":label:\n",
    "\n",
    " 1. Can you locate a list of \"records\" inside `doc`? Name that list `records`.\n",
    "\n",
    " 2. Records all have a type name. Can you list all of them?\n",
    "\n",
    " 3. There should be a single shape among your records. What's it's `type`?\n",
    "\n",
    " 4. Name `hello_text` this record and display it in the notebook\n",
    "\n",
    "```"
   ]
  },
  {
   "cell_type": "code",
   "execution_count": 38,
   "id": "81d8bbb6-7082-4f92-b153-6fd5934b6405",
   "metadata": {},
   "outputs": [
    {
     "name": "stdout",
     "output_type": "stream",
     "text": [
      "['document', 'page', 'shape', 'instance', 'camera', 'instance_page_state', 'pointer']\n",
      "<class 'str'>\n",
      "Enregistrement 'hello_text' :\n",
      "{'x': 416.453125, 'y': 327.4687690734863, 'rotation': 0, 'isLocked': False, 'opacity': 1, 'meta': {}, 'type': 'text', 'props': {'color': 'black', 'size': 'm', 'w': 183.09375, 'text': '\"Hello tldraw!\"', 'font': 'draw', 'align': 'middle', 'autoSize': True, 'scale': 1.8437292092882391}, 'parentId': 'page:page', 'index': 'a1', 'id': 'shape:bjaC7PmQ8gB0-iGJ0ZN74', 'typeName': 'shape'}\n"
     ]
    }
   ],
   "source": [
    "#1/\n",
    "# Accédez à la liste des enregistrements (records)\n",
    "records = hello.get('records', [])\n",
    "\n",
    "#2/\n",
    "noms_de_type = [enregistrement.get('typeName') for enregistrement in records]\n",
    "print(noms_de_type)\n",
    "# Filtrer les valeurs None au cas où certaines entrées n'auraient pas de 'typeName' (pas obligatoire)\n",
    "noms_de_type = [nom for nom in noms_de_type if nom is not None]\n",
    "\n",
    "#3/ C'est une chaîne de caractères\n",
    "print(type(noms_de_type[2]))\n",
    "\n",
    "\n",
    "#4/\n",
    "shape_record = None\n",
    "for record in records:\n",
    "    if record.get('typeName') == 'shape':\n",
    "        shape_record = record\n",
    "        break\n",
    "\n",
    "# Créer une variable 'hello_text' contenant les informations de 'shape'\n",
    "hello_text = shape_record.copy()\n",
    "\n",
    "# Afficher l'enregistrement 'hello_text'\n",
    "print(\"Enregistrement 'hello_text' :\")\n",
    "print(hello_text)\n"
   ]
  },
  {
   "cell_type": "markdown",
   "id": "88a29de9-0fb7-4173-8f5e-29377e5e2147",
   "metadata": {},
   "source": [
    "# Edit the Document"
   ]
  },
  {
   "cell_type": "markdown",
   "id": "0e3880a5-049b-4d0a-a4aa-2678eff6406c",
   "metadata": {},
   "source": [
    "```{exercise} Text Content\n",
    "\n",
    "  1. Locate where in the `hello_text` record the text content is located.\n",
    "  \n",
    "  2. Replace \"Hello tldraw!\" with \"Hello Python!\"\n",
    "\n",
    "  3. Save the corresponding document in the directory `docs` as a `hello-python.tldr` file.\n",
    "\n",
    "  4. Load it in the tldraw editor and check that you end up with something similar to the picture below.\n",
    "\n",
    "```"
   ]
  },
  {
   "cell_type": "code",
   "execution_count": 43,
   "id": "585fdd72-5709-4b63-a0de-c09c74a79997",
   "metadata": {},
   "outputs": [
    {
     "name": "stdout",
     "output_type": "stream",
     "text": [
      "Contenu texte situé sous la clé 'text': \"Hello Python!\"\n",
      "Enregistrement 'hello_text' mis à jour :\n",
      "{'color': 'black', 'size': 'm', 'w': 183.09375, 'text': '\"Hello Python!\"', 'font': 'draw', 'align': 'middle', 'autoSize': True, 'scale': 1.8437292092882391}\n"
     ]
    }
   ],
   "source": [
    "# 1/\n",
    "props_dict = hello_text.get('props', {})\n",
    "cle_texte = 'text'\n",
    "\n",
    "# Obtenez le contenu texte du dictionnaire 'props'\n",
    "contenu_texte = props_dict.get(cle_texte)\n",
    "\n",
    "# Affichez l'emplacement et le contenu du texte\n",
    "print(f\"Contenu texte situé sous la clé '{cle_texte}': {contenu_texte}\")\n",
    "\n",
    "#2/ \n",
    "hello_text['props']['text'] = '\"Hello Python!\"'\n",
    "print(\"Enregistrement 'hello_text' mis à jour :\")\n",
    "print(props_dict)"
   ]
  },
  {
   "cell_type": "code",
   "execution_count": 46,
   "id": "7d8b12c7-a3c7-4682-995f-fd597a34d52d",
   "metadata": {},
   "outputs": [
    {
     "name": "stdout",
     "output_type": "stream",
     "text": [
      "Le fichier C:\\Users\\Etudiant\\info-minesparis\\tldraw_new2\\docs\\hello-python.tldr a été créé avec succès.\n"
     ]
    }
   ],
   "source": [
    "#3/\n",
    "import json\n",
    "# Chemin du fichier dans le répertoire \"docs\"\n",
    "chemin_fichier = 'C:\\\\Users\\\\Etudiant\\\\info-minesparis\\\\tldraw_new2\\\\docs\\\\hello-python.tldr'\n",
    "\n",
    "# Écrire les données de hello_text dans le fichier\n",
    "with open(chemin_fichier, 'w') as fichier:\n",
    "    json.dump(hello, fichier)\n",
    "\n",
    "print(f\"Le fichier {chemin_fichier} a été créé avec succès.\")"
   ]
  },
  {
   "cell_type": "markdown",
   "id": "1f95f445-0b47-4cea-a53b-b8d0a8bed59f",
   "metadata": {},
   "source": [
    "![](images/hello-python.png)"
   ]
  }
 ],
 "metadata": {
  "kernelspec": {
   "display_name": "Python 3 (ipykernel)",
   "language": "python",
   "name": "python3"
  },
  "language_info": {
   "codemirror_mode": {
    "name": "ipython",
    "version": 3
   },
   "file_extension": ".py",
   "mimetype": "text/x-python",
   "name": "python",
   "nbconvert_exporter": "python",
   "pygments_lexer": "ipython3",
   "version": "3.11.4"
  }
 },
 "nbformat": 4,
 "nbformat_minor": 5
}
